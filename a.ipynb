{
 "cells": [
  {
   "cell_type": "code",
   "execution_count": 17,
   "metadata": {},
   "outputs": [
    {
     "name": "stdout",
     "output_type": "stream",
     "text": [
      "[[-0.83333333 -0.20689655  0.98333333]\n",
      " [-0.74576271  0.03389831  1.        ]\n",
      " [-0.89830508 -0.05172414  1.        ]\n",
      " [-0.82758621 -0.10526316  0.96666667]]\n"
     ]
    }
   ],
   "source": [
    "import numpy as np\n",
    "\n",
    "table = np.zeros((4, 3))\n",
    "table[0] = np.load('conservation.npy')\n",
    "table[1] = np.load('openness_to_change.npy')\n",
    "table[2] = np.load('self-enhancement.npy')\n",
    "table[3] = np.load('self-transcendence.npy')\n",
    "print(table)"
   ]
  }
 ],
 "metadata": {
  "kernelspec": {
   "display_name": "Python 3",
   "language": "python",
   "name": "python3"
  },
  "language_info": {
   "codemirror_mode": {
    "name": "ipython",
    "version": 3
   },
   "file_extension": ".py",
   "mimetype": "text/x-python",
   "name": "python",
   "nbconvert_exporter": "python",
   "pygments_lexer": "ipython3",
   "version": "3.11.9"
  }
 },
 "nbformat": 4,
 "nbformat_minor": 2
}
