{
 "cells": [
  {
   "cell_type": "code",
   "execution_count": 3,
   "metadata": {},
   "outputs": [
    {
     "name": "stdout",
     "output_type": "stream",
     "text": [
      "[[-0.83333333 -0.20689655  0.98333333]\n",
      " [-0.74576271  0.03389831  1.        ]\n",
      " [-0.89830508 -0.05172414  1.        ]\n",
      " [-0.82758621 -0.10526316  0.96666667]]\n"
     ]
    }
   ],
   "source": [
    "import numpy as np\n",
    "\n",
    "table = np.zeros((4, 3))\n",
    "table[0] = np.load('data/tables/conservation.npy')\n",
    "table[1] = np.load('data/tables/openness_to_change.npy')\n",
    "table[2] = np.load('data/tables/self-enhancement.npy')\n",
    "table[3] = np.load('data/tables/self-transcendence.npy')\n",
    "print(table)"
   ]
  },
  {
   "cell_type": "code",
   "execution_count": 8,
   "metadata": {},
   "outputs": [
    {
     "name": "stdout",
     "output_type": "stream",
     "text": [
      "[[-0.80405405 -0.15467626  0.97651007]\n",
      " [-0.82191781 -0.14335664  0.98996656]\n",
      " [-0.7883959  -0.17301038  0.97972973]\n",
      " [-0.78911565 -0.06315789  0.98657718]\n",
      " [-0.65993266 -0.1774744   0.96644295]]\n"
     ]
    }
   ],
   "source": [
    "import numpy as np\n",
    "\n",
    "table = np.zeros((5, 3))\n",
    "table[0] = np.load('data/responses/test2/ladder/tables/conservation.npy')\n",
    "table[1] = np.load('data/responses/test2/ladder/tables/openness_to_change.npy')\n",
    "table[2] = np.load('data/responses/test2/ladder/tables/self-enhancement.npy')\n",
    "table[3] = np.load('data/responses/test2/ladder/tables/self-transcendence.npy')\n",
    "table[4] = np.load('data/responses/test2/ladder/tables/destruction.npy')\n",
    "print(table)"
   ]
  }
 ],
 "metadata": {
  "kernelspec": {
   "display_name": "Python 3",
   "language": "python",
   "name": "python3"
  },
  "language_info": {
   "codemirror_mode": {
    "name": "ipython",
    "version": 3
   },
   "file_extension": ".py",
   "mimetype": "text/x-python",
   "name": "python",
   "nbconvert_exporter": "python",
   "pygments_lexer": "ipython3",
   "version": "3.11.9"
  }
 },
 "nbformat": 4,
 "nbformat_minor": 2
}
